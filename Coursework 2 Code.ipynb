{
 "cells": [
  {
   "cell_type": "code",
   "execution_count": 18,
   "id": "9c8ad90e",
   "metadata": {},
   "outputs": [],
   "source": [
    "import pandas as pd\n",
    "from sklearn.model_selection import train_test_split\n",
    "from sklearn.preprocessing import StandardScaler\n",
    "from sklearn.neighbors import KNeighborsClassifier\n",
    "from sklearn.metrics import classification_report, confusion_matrix\n",
    "from sklearn import metrics\n",
    "from sklearn import tree\n",
    "\n"
   ]
  },
  {
   "cell_type": "code",
   "execution_count": 19,
   "id": "d9db701b",
   "metadata": {},
   "outputs": [
    {
     "name": "stderr",
     "output_type": "stream",
     "text": [
      "C:\\Users\\Scott.Kinsey\\Anaconda3\\lib\\site-packages\\IPython\\core\\interactiveshell.py:3444: DtypeWarning: Columns (173) have mixed types.Specify dtype option on import or set low_memory=False.\n",
      "  exec(code_obj, self.user_global_ns, self.user_ns)\n"
     ]
    }
   ],
   "source": [
    "df1 = pd.read_csv('Data/2020 consolidated OUTPUT_emissions_tags.csv')\n",
    "df2 = pd.read_csv('Data/OUTPUT_emissions_tags Jun.csv')\n",
    "df3 = pd.read_csv('Data/2021 OUTPUT_emissions_tags Apr May Jun.csv')\n",
    "df4 = pd.read_csv('Data/OUTPUT_export_April_May V2.csv')\n",
    "df5 = pd.read_csv('Data/2021 OUTPUT_emissions_tags - V2.csv')\n",
    "df6 = pd.read_csv('Data/2021 Liquid Fuel CO2.csv')\n",
    "\n",
    "df2 = df2.drop([r'\\\\PI-ABZ\\NN04632.S1PRS.SPT',r'\\\\PI-ABZ\\NN08728.S1PRS.SPT'], axis = 1)\n",
    "df3 = df3.drop([r'\\\\PI-ABZ\\NN04632.S1PRS.SPT',r'\\\\PI-ABZ\\NN08728.S1PRS.SPT'], axis = 1)\n",
    "df5 = df5.drop([r'\\\\PI-ABZ\\NN04632.S1PRS.SPT',r'\\\\PI-ABZ\\NN08728.S1PRS.SPT'], axis = 1)\n",
    "df6 = df6.rename({\"date_calc\": \"Time\"}, axis = 1)\n",
    "\n",
    "df5_6 = df5.merge(df6, how = 'inner', on = 'Time')\n",
    "\n",
    "df = pd.concat([df1, df2, df3, df4, df5_6])\n",
    "\n",
    "df = df.fillna(0)\n",
    "\n",
    "df['Time'] = pd.to_datetime(df['Time'])\n",
    "\n",
    "df.to_pickle(\"Data/merged_dfs.pkl\")"
   ]
  },
  {
   "cell_type": "code",
   "execution_count": 3,
   "id": "c42f19a7",
   "metadata": {},
   "outputs": [],
   "source": [
    "df7 = pd.read_csv(\"Data/OUTPUT_emissions_tags_unseen_data_2021-06-23_2021-08-22.csv\")\n",
    "\n",
    "main_df = pd.read_pickle(\"Data/merged_dfs.pkl\")\n",
    "main_df = pd.concat([main_df, df7])\n",
    "\n",
    "\n",
    "main_df.to_pickle(\"Data/merged_dfs.pkl\")"
   ]
  },
  {
   "cell_type": "code",
   "execution_count": 4,
   "id": "dee546b1",
   "metadata": {},
   "outputs": [],
   "source": [
    "main_df = pd.read_pickle(\"Data/merged_dfs.pkl\")\n",
    "\n",
    "main_df[\"Time\"] = pd.to_datetime(main_df[\"Time\"])\n",
    "main_df = main_df.sort_values(\"Time\")\n",
    "\n",
    "main_df.to_pickle(\"Data/merged_dfs.pkl\")\n"
   ]
  },
  {
   "cell_type": "code",
   "execution_count": 5,
   "id": "8dc20a39",
   "metadata": {},
   "outputs": [],
   "source": [
    "main_df = pd.read_pickle(\"Data/merged_dfs.pkl\")\n",
    "\n",
    "main_df = main_df.fillna(0)\n",
    "\n",
    "main_df['TotalTonnesCO2perDay'] = main_df['Fuel Gas Package.tonnesCO2perDay'] + main_df['Liquid Fuel Package.tonnesCo2perDay']\n",
    "\n",
    "main_df.to_pickle(\"Data/merged_dfs.pkl\")"
   ]
  },
  {
   "cell_type": "code",
   "execution_count": 6,
   "id": "742c9722",
   "metadata": {},
   "outputs": [],
   "source": [
    "main_df = pd.read_pickle(\"Data/merged_dfs.pkl\")\n",
    "main_df = main_df.fillna(0)\n",
    "main_df['GE-1201A.runningStatus'] = main_df['GE-1201A.runningStatus'].astype('int')\n",
    "main_df['GE-1201B.runningStatus'] = main_df['GE-1201B.runningStatus'].astype('int')\n",
    "main_df = main_df[(((main_df['GE-1201A.runningStatus'] == 1) & (main_df['GE-1201B.runningStatus'] == 0)) | ((main_df['GE-1201A.runningStatus'] == 0) & (main_df['GE-1201B.runningStatus'] == 1)))]\n",
    "main_df.to_pickle(\"Data/merged_dfs.pkl\")"
   ]
  },
  {
   "cell_type": "code",
   "execution_count": 7,
   "id": "5bef20fe",
   "metadata": {},
   "outputs": [],
   "source": [
    "df8 = pd.read_csv(\"Data/OUTPUT_emissions_tags_unseen_data_2021-06-23_2021-08-22.csv\")\n",
    "\n",
    "df8 = df8[['Time','GA-0201AX.tonnesCO2perDay', 'GA-0201SX.tonnesCO2perDay', 'GA-0303S.tonnesCO2perDay', \n",
    "'GA-0397A.tonnesCO2perDay', 'GA-0508A.tonnesCO2perDay', 'GA-0508B.tonnesCO2perDay', \n",
    "'GA-0508S.tonnesCO2perDay', 'GA-0709A.tonnesCO2perDay', 'GA-0709B.tonnesCO2perDay', \n",
    "'GA-0709S.tonnesCO2perDay', 'GA-0711A.tonnesCO2perDay', 'GA-0711B.tonnesCO2perDay', \n",
    "'GA-0711C.tonnesCO2perDay', 'GA-0711D.tonnesCO2perDay', 'GA-0711E.tonnesCO2perDay', \n",
    "'GA-0711G.tonnesCO2perDay', 'GA-0711H.tonnesCO2perDay', 'GA-0711J.tonnesCO2perDay', \n",
    "'GA-4201G.tonnesCO2perDay', 'GA-4201H.tonnesCO2perDay', 'GA-4201J.tonnesCO2perDay', \n",
    "'GA-4301A.tonnesCO2perDay', 'GA-4301B.tonnesCO2perDay', 'GA-4301S.tonnesCO2perDay', \n",
    "'GB-4001_1.tonnesCO2perDay', 'GB-4001_2.tonnesCO2perDay']]\n",
    "df8 = df8.fillna(0)\n",
    "\n",
    "df9 = pd.read_csv(\"Data/OUTPUT_emissions_consumer_data.csv\")\n",
    "df9 = df9.fillna(0)\n",
    "df9 = df9.drop(['GE-1201A.tonnesCO2perDay', 'GE-1201B.tonnesCO2perDay'], axis = 1)\n",
    "\n",
    "\n",
    "df8_9 = pd.concat([df8, df9])\n",
    "df8_9['Time'] = pd.to_datetime(df8_9['Time'])\n",
    "\n",
    "df8_9['SumTonnesCO2perDay'] = df8_9.iloc[:, 1:27].sum(axis=1)\n",
    "#df8_9.to_csv('testing_results.csv')\n",
    "df8_9 = df8_9[['Time', 'SumTonnesCO2perDay']]\n",
    "df8_9.to_pickle('Data/df8_9.pkl')"
   ]
  },
  {
   "cell_type": "code",
   "execution_count": 8,
   "id": "3b1c1650",
   "metadata": {},
   "outputs": [],
   "source": [
    "df10 = pd.read_csv('Data/OUTPUT_electrical_tags.csv')\n",
    "df11 = pd.read_csv('Data/OUTPUT_unseen_data_electrical_tags.csv')\n",
    "\n",
    "df10_11 = pd.concat([df10, df11])\n",
    "df10_11['Time'] = pd.to_datetime(df10_11['Time'])\n",
    "df10_11 = df10_11.sort_values(\"Time\")\n",
    "\n",
    "df10_11.to_pickle('Data/df10_11.pkl')\n"
   ]
  },
  {
   "cell_type": "code",
   "execution_count": 9,
   "id": "f6158ccc",
   "metadata": {},
   "outputs": [],
   "source": [
    "merged_df = pd.read_pickle(\"Data/merged_dfs.pkl\")\n",
    "df8_9 = pd.read_pickle('Data/df8_9.pkl')\n",
    "df10_11 = pd.read_pickle('Data/df10_11.pkl')\n",
    "\n",
    "merged_df['Time'] = pd.to_datetime(merged_df['Time'])\n",
    "df8_9['Time'] = pd.to_datetime(df8_9['Time'])\n",
    "df10_11['Time'] = pd.to_datetime(df10_11['Time'])\n",
    "\n",
    "merged_df = pd.concat([merged_df, df8_9, df10_11])\n",
    "merged_df.to_pickle('Data/merged_dfs.pkl')"
   ]
  },
  {
   "cell_type": "code",
   "execution_count": 10,
   "id": "333c4b07",
   "metadata": {},
   "outputs": [],
   "source": [
    "merged_df = pd.read_pickle('Data/merged_dfs.pkl')\n",
    "merged_df = merged_df.fillna(0)\n",
    "merged_df['AuxAbsorbedPower'] = merged_df[':GE1201A.RT-Load Calculated'] + merged_df[':GE1201B.RT-Load Calculated']-merged_df['GA-0201AX.absorbedPower']-merged_df['GA-0201SX.absorbedPower']-merged_df['GA-0303S.absorbedPower']-merged_df['GA-0397A.absorbedPower']-merged_df['GA-0508A.absorbedPower']-merged_df['GA-0508B.absorbedPower']-merged_df['GA-0508S.absorbedPower']-merged_df['GA-0709A.absorbedPower']-merged_df['GA-0709B.absorbedPower']-merged_df['GA-0709S.absorbedPower']-merged_df['GA-0711A.absorbedPower']-merged_df['GA-0711B.absorbedPower']-merged_df['GA-0711C.absorbedPower']-merged_df['GA-0711D.absorbedPower']-merged_df['GA-0711E.absorbedPower']-merged_df['GA-4201G.absorbedPower']-merged_df['GA-4201H.absorbedPower']-merged_df['GA-4201J.absorbedPower']-merged_df['GA-4301A.absorbedPower']-merged_df['GA-4301B.absorbedPower']-merged_df['GA-4301S.absorbedPower']-merged_df['GB-4001_2.absorbedPower']\n",
    "\n",
    "merged_df = merged_df[(merged_df['TotalTonnesCO2perDay'] > 0) & (merged_df['Oil Export.oilExportKBOED'] > 0)]\n",
    "\n",
    "merged_df = merged_df[(((merged_df['GE-1201A.runningStatus'] == 1) & (merged_df['GE-1201A.fuelSupplyMode'] == 1)) | ((merged_df['GE-1201B.runningStatus'] == 1) & (merged_df['GE-1201B.fuelSupplyMode'] == 1)))]\n",
    "\n",
    "merged_df.to_pickle('Data/merged_dfs.pkl')"
   ]
  },
  {
   "cell_type": "code",
   "execution_count": 11,
   "id": "f310e79a",
   "metadata": {},
   "outputs": [],
   "source": [
    "df1 = pd.read_csv('Data/running_data_unseen_2021-06-23_2021-08-22.csv')\n",
    "df2 = pd.read_csv('Data/PLANT_STATUS_20210608_TO_20210622.csv')\n",
    "df3 = pd.read_csv('Data/PLANT_STATUS_20210417_TO_20210607.csv')\n",
    "df4 = pd.read_csv('Data/PLANT_STATUS_20210401_TO_20210417.csv')\n",
    "df5 = pd.read_csv('Data/PLANT_STATUS_20200101_TO_20210331.csv')\n",
    "\n",
    "plant_status_df = pd.concat([df1, df2, df3, df4, df5])\n",
    "merged_df = pd.read_pickle('Data/merged_dfs.pkl')\n",
    "\n",
    "merged_df = pd.concat([merged_df, plant_status_df])\n",
    "\n",
    "merged_df.to_pickle('Data/merged_dfs.pkl')"
   ]
  },
  {
   "cell_type": "code",
   "execution_count": 12,
   "id": "cc21ea8e",
   "metadata": {},
   "outputs": [],
   "source": [
    "merged_df = pd.read_pickle('Data/merged_dfs.pkl')\n",
    "merged_df = merged_df.fillna(0)\n",
    "merged_df['NoOfRunningWIPumps'] = merged_df['GA-0711A.runningStatus']+merged_df['GA-0711B.runningStatus']+merged_df['GA-0711C.runningStatus']+merged_df['GA-0711D.runningStatus']+merged_df['GA-0711E.runningStatus']+merged_df['GA-4201G.runningStatus']+merged_df['GA-4201H.runningStatus']+merged_df['GA-4201J.runningStatus']\n",
    "merged_df['NoOfRunningWIPumps'] = merged_df['NoOfRunningWIPumps'].astype('int')\n",
    "\n",
    "merged_df['NoOfRunningTailsPumps'] = merged_df['GA-4301A.runningStatus']+merged_df['GA-4301B.runningStatus']+merged_df['GA-4301S.runningStatus']\n",
    "merged_df['NoOfRunningTailsPumps'] = merged_df['NoOfRunningTailsPumps'].astype('int')\n",
    "\n",
    "merged_df['NoOfRunningBoosterPumps'] = merged_df['GA-0201AX.runningStatus']+merged_df['GA-0201SX.runningStatus']\n",
    "merged_df['NoOfRunningBoosterPumps'] = merged_df['NoOfRunningBoosterPumps'].astype('int')\n",
    "\n",
    "merged_df['NoOfRunningMOLPumps'] = merged_df['GA-0397A.runningStatus']+merged_df['GA-0303S.runningStatus']\n",
    "merged_df['NoOfRunningMOLPumps'] = merged_df['NoOfRunningMOLPumps'].astype('int')\n",
    "\n",
    "merged_df['NoOfRunning3rdPartyTailsPumps'] = merged_df['GA-0709A.runningStatus']+merged_df['GA-0709B.runningStatus']+merged_df['GA-0709S.runningStatus']\n",
    "merged_df['NoOfRunning3rdPartyTailsPumps'] = merged_df['NoOfRunning3rdPartyTailsPumps'].astype('int')\n",
    "\n",
    "merged_df['TotalNoOfRunningTailsPumps'] = merged_df['GA-0709A.runningStatus']+merged_df['GA-0709B.runningStatus']+merged_df['GA-0709S.runningStatus']+merged_df['GA-4301A.runningStatus']+merged_df['GA-4301B.runningStatus']+merged_df['GA-4301S.runningStatus']\n",
    "merged_df['TotalNoOfRunningTailsPumps'] = merged_df['TotalNoOfRunningTailsPumps'].astype('int')\n",
    "\n",
    "merged_df.to_pickle('Data/merged_dfs.pkl')"
   ]
  },
  {
   "cell_type": "code",
   "execution_count": 13,
   "id": "1325f41b",
   "metadata": {},
   "outputs": [],
   "source": [
    "merged_df = pd.read_pickle('Data/merged_dfs.pkl')\n",
    "#len(merged_df)\n",
    "merged_df = merged_df[(merged_df['GB-4001_1.runningStatus'] == 1) & (merged_df['GB-4001_2.runningStatus'] == 1)]\n",
    "merged_df.to_pickle('Data/merged_dfs.pkl')"
   ]
  },
  {
   "cell_type": "code",
   "execution_count": 14,
   "id": "4e448b07",
   "metadata": {},
   "outputs": [],
   "source": [
    "merged_df = pd.read_pickle('Data/merged_dfs.pkl')\n",
    "\n",
    "merged_df['711AStatus'] = merged_df['GA-0711A.runningStatus'].apply(lambda x: 'A' if x == 1 else '')\n",
    "merged_df['711BStatus'] = merged_df['GA-0711B.runningStatus'].apply(lambda x: 'B' if x == 1 else '')\n",
    "merged_df['711CStatus'] = merged_df['GA-0711C.runningStatus'].apply(lambda x: 'C' if x == 1 else '')\n",
    "merged_df['711DStatus'] = merged_df['GA-0711D.runningStatus'].apply(lambda x: 'D' if x == 1 else '')\n",
    "merged_df['711EStatus'] = merged_df['GA-0711E.runningStatus'].apply(lambda x: 'E' if x == 1 else '')\n",
    "merged_df['4201GStatus'] = merged_df['GA-4201G.runningStatus'].apply(lambda x: 'G' if x == 1 else '')\n",
    "merged_df['4201HStatus'] = merged_df['GA-4201H.runningStatus'].apply(lambda x: 'H' if x == 1 else '')\n",
    "merged_df['4201JStatus'] = merged_df['GA-4201J.runningStatus'].apply(lambda x: 'J' if x == 1 else '')\n",
    "\n",
    "merged_df['WIPumpRunningStatus'] = merged_df['711AStatus'] + merged_df['711BStatus'] + merged_df['711CStatus'] + merged_df['711DStatus'] + merged_df['711EStatus'] + merged_df['4201GStatus'] + merged_df['4201HStatus'] + merged_df['4201JStatus']\n",
    "\n",
    "#merged_df[['WIPumpRunningStatus', '711AStatus', '711BStatus', '711CStatus', '711DStatus', '711EStatus', '4201GStatus', '4201HStatus', '4201JStatus']].to_csv('testing_results.csv')\n",
    "\n",
    "merged_df.to_pickle('Data/merged_dfs.pkl')"
   ]
  },
  {
   "cell_type": "code",
   "execution_count": 15,
   "id": "4c06aa49",
   "metadata": {},
   "outputs": [
    {
     "name": "stdout",
     "output_type": "stream",
     "text": [
      "2021-06-23 00:01:00 2021-12-08 23:59:00\n"
     ]
    }
   ],
   "source": [
    "merged_df = pd.read_pickle('Data/merged_dfs.pkl')\n",
    "\n",
    "merged_df = merged_df[merged_df['Time'] > pd.to_datetime(\"2021-06-23 00:00:00\")]\n",
    "\n",
    "print(min(merged_df['Time']), max(merged_df['Time']))\n",
    "\n",
    "merged_df.to_pickle('Data/merged_dfs.pkl')"
   ]
  },
  {
   "cell_type": "code",
   "execution_count": 16,
   "id": "45319616",
   "metadata": {},
   "outputs": [
    {
     "name": "stderr",
     "output_type": "stream",
     "text": [
      "C:\\Users\\SCOTT~1.KIN\\AppData\\Local\\Temp/ipykernel_12932/1398554897.py:40: SettingWithCopyWarning: \n",
      "A value is trying to be set on a copy of a slice from a DataFrame\n",
      "\n",
      "See the caveats in the documentation: https://pandas.pydata.org/pandas-docs/stable/user_guide/indexing.html#returning-a-view-versus-a-copy\n",
      "  df_target['Good_or_bad_emissions'] = df_target.apply(lambda x: 'Good' if x < higher_3std else 'Bad')\n"
     ]
    },
    {
     "name": "stdout",
     "output_type": "stream",
     "text": [
      "[[    0     8]\n",
      " [    0 35728]]\n"
     ]
    },
    {
     "name": "stderr",
     "output_type": "stream",
     "text": [
      "C:\\Users\\Scott.Kinsey\\Anaconda3\\lib\\site-packages\\sklearn\\metrics\\_classification.py:1248: UndefinedMetricWarning: Precision and F-score are ill-defined and being set to 0.0 in labels with no predicted samples. Use `zero_division` parameter to control this behavior.\n",
      "  _warn_prf(average, modifier, msg_start, len(result))\n",
      "C:\\Users\\Scott.Kinsey\\Anaconda3\\lib\\site-packages\\sklearn\\metrics\\_classification.py:1248: UndefinedMetricWarning: Precision and F-score are ill-defined and being set to 0.0 in labels with no predicted samples. Use `zero_division` parameter to control this behavior.\n",
      "  _warn_prf(average, modifier, msg_start, len(result))\n"
     ]
    },
    {
     "name": "stdout",
     "output_type": "stream",
     "text": [
      "              precision    recall  f1-score   support\n",
      "\n",
      "         Bad       0.00      0.00      0.00         8\n",
      "        Good       1.00      1.00      1.00     35728\n",
      "\n",
      "    accuracy                           1.00     35736\n",
      "   macro avg       0.50      0.50      0.50     35736\n",
      "weighted avg       1.00      1.00      1.00     35736\n",
      "\n",
      "Model Accuracy 0.9997761361092455\n"
     ]
    },
    {
     "name": "stderr",
     "output_type": "stream",
     "text": [
      "C:\\Users\\Scott.Kinsey\\Anaconda3\\lib\\site-packages\\sklearn\\metrics\\_classification.py:1248: UndefinedMetricWarning: Precision and F-score are ill-defined and being set to 0.0 in labels with no predicted samples. Use `zero_division` parameter to control this behavior.\n",
      "  _warn_prf(average, modifier, msg_start, len(result))\n"
     ]
    }
   ],
   "source": [
    "merged_df = pd.read_pickle('Data/merged_dfs.pkl')\n",
    "\n",
    "df_target = merged_df['TotalTonnesCO2perDay']\n",
    "\n",
    "# df_variables = merged_df.loc[:, merged_df.columns != ]\n",
    "# df_variables = merged_df.loc[:, merged_df.columns != 'Time']\n",
    "\n",
    "df_variables = merged_df.drop(['Time',\n",
    "                               'TotalTonnesCO2perDay',\n",
    "                               'StatusString',\n",
    "                               'PWR',\n",
    "                               'GC',\n",
    "                               'OIL',\n",
    "                               'WTR',\n",
    "                               'Liquid Fuel Package.tonnesCo2perDay',\n",
    "                               'Fuel Gas Package.tonnesCO2perDay',\n",
    "                               '.totalTonnesCO2perDay',\n",
    "                               'WIExpectedCO2',\n",
    "                               'TailsExpectedCO2',\n",
    "                               'SWLPExpectedCO2',\n",
    "                               'OilExpectedCO2',\n",
    "                               'GasExpectedCO2',\n",
    "                               'TotalExpectedCO2',\n",
    "                               'AbsDiffFromExpectedCO2',\n",
    "                               '711AStatus',\n",
    "                               '711BStatus',\n",
    "                               '711CStatus',\n",
    "                               '711DStatus',\n",
    "                               '711EStatus',\n",
    "                               '4201GStatus',\n",
    "                               '4201HStatus',\n",
    "                               '4201JStatus',\n",
    "                               'WIPumpRunningStatus'], axis = 1)\n",
    "\n",
    "df_variables = df_variables[df_variables.columns.drop(list(df_variables.filter(regex='tonnesCO2perDay')))]\n",
    "\n",
    "lower_3std = df_target.mean() - 3 * df_target.std()\n",
    "higher_3std = df_target.mean() + 3 * df_target.std()\n",
    "\n",
    "df_target['Good_or_bad_emissions'] = df_target.apply(lambda x: 'Good' if x < higher_3std else 'Bad')\n",
    "\n",
    "\n",
    "df_variables_train, df_variables_test, df_target_train, df_target_test = train_test_split(df_variables, df_target['Good_or_bad_emissions'], train_size = 0.6, test_size=0.4)\n",
    "\n",
    "# scaler = StandardScaler()\n",
    "# scaler.fit(df_variables_train)\n",
    "\n",
    "# df_variables_train = scaler.transform(df_variables_train)\n",
    "# df_variables_test = scaler.transform(df_variables_test)\n",
    "\n",
    "classifier = KNeighborsClassifier(n_neighbors=10, weights = 'distance')\n",
    "classifier.fit(df_variables_train, df_target_train)\n",
    "\n",
    "df_target_pred = classifier.predict(df_variables_test)\n",
    "\n",
    "print(confusion_matrix(df_target_test, df_target_pred))\n",
    "print(classification_report(df_target_test, df_target_pred))\n",
    "print('Model Accuracy', metrics.accuracy_score(df_target_test, df_target_pred))\n",
    "\n"
   ]
  },
  {
   "cell_type": "code",
   "execution_count": 17,
   "id": "b6dbd1f6",
   "metadata": {},
   "outputs": [
    {
     "name": "stderr",
     "output_type": "stream",
     "text": [
      "C:\\Users\\SCOTT~1.KIN\\AppData\\Local\\Temp/ipykernel_12932/78571928.py:40: SettingWithCopyWarning: \n",
      "A value is trying to be set on a copy of a slice from a DataFrame\n",
      "\n",
      "See the caveats in the documentation: https://pandas.pydata.org/pandas-docs/stable/user_guide/indexing.html#returning-a-view-versus-a-copy\n",
      "  df_target['Good_or_bad_emissions'] = df_target.apply(lambda x: 'Good' if x < higher_3std else 'Bad')\n"
     ]
    },
    {
     "name": "stdout",
     "output_type": "stream",
     "text": [
      "[[    4     5]\n",
      " [   12 35715]]\n",
      "              precision    recall  f1-score   support\n",
      "\n",
      "         Bad       0.25      0.44      0.32         9\n",
      "        Good       1.00      1.00      1.00     35727\n",
      "\n",
      "    accuracy                           1.00     35736\n",
      "   macro avg       0.62      0.72      0.66     35736\n",
      "weighted avg       1.00      1.00      1.00     35736\n",
      "\n",
      "Model Accuracy 0.9995242892321469\n"
     ]
    }
   ],
   "source": [
    "merged_df = pd.read_pickle('Data/merged_dfs.pkl')\n",
    "\n",
    "df_target = merged_df['TotalTonnesCO2perDay']\n",
    "\n",
    "# df_variables = merged_df.loc[:, merged_df.columns != ]\n",
    "# df_variables = merged_df.loc[:, merged_df.columns != 'Time']\n",
    "\n",
    "df_variables = merged_df.drop(['Time',\n",
    "                               'TotalTonnesCO2perDay',\n",
    "                               'StatusString',\n",
    "                               'PWR',\n",
    "                               'GC',\n",
    "                               'OIL',\n",
    "                               'WTR',\n",
    "                               'Liquid Fuel Package.tonnesCo2perDay',\n",
    "                               'Fuel Gas Package.tonnesCO2perDay',\n",
    "                               '.totalTonnesCO2perDay',\n",
    "                               'WIExpectedCO2',\n",
    "                               'TailsExpectedCO2',\n",
    "                               'SWLPExpectedCO2',\n",
    "                               'OilExpectedCO2',\n",
    "                               'GasExpectedCO2',\n",
    "                               'TotalExpectedCO2',\n",
    "                               'AbsDiffFromExpectedCO2',\n",
    "                               '711AStatus',\n",
    "                               '711BStatus',\n",
    "                               '711CStatus',\n",
    "                               '711DStatus',\n",
    "                               '711EStatus',\n",
    "                               '4201GStatus',\n",
    "                               '4201HStatus',\n",
    "                               '4201JStatus',\n",
    "                               'WIPumpRunningStatus'], axis = 1)\n",
    "\n",
    "df_variables = df_variables[df_variables.columns.drop(list(df_variables.filter(regex='tonnesCO2perDay')))]\n",
    "\n",
    "lower_3std = df_target.mean() - 3 * df_target.std()\n",
    "higher_3std = df_target.mean() + 3 * df_target.std()\n",
    "\n",
    "df_target['Good_or_bad_emissions'] = df_target.apply(lambda x: 'Good' if x < higher_3std else 'Bad')\n",
    "\n",
    "\n",
    "df_variables_train, df_variables_test, df_target_train, df_target_test = train_test_split(df_variables, df_target['Good_or_bad_emissions'], train_size = 0.6, test_size=0.4)\n",
    "\n",
    "\n",
    "classifier = tree.DecisionTreeClassifier()\n",
    "classifier = classifier.fit(df_variables_train, df_target_train)\n",
    "\n",
    "df_target_pred = classifier.predict(df_variables_test)\n",
    "\n",
    "print(confusion_matrix(df_target_test, df_target_pred))\n",
    "print(classification_report(df_target_test, df_target_pred))\n",
    "print('Model Accuracy', metrics.accuracy_score(df_target_test, df_target_pred))"
   ]
  },
  {
   "cell_type": "code",
   "execution_count": null,
   "id": "9a8d5ade",
   "metadata": {},
   "outputs": [],
   "source": []
  }
 ],
 "metadata": {
  "kernelspec": {
   "display_name": "Python 3 (ipykernel)",
   "language": "python",
   "name": "python3"
  },
  "language_info": {
   "codemirror_mode": {
    "name": "ipython",
    "version": 3
   },
   "file_extension": ".py",
   "mimetype": "text/x-python",
   "name": "python",
   "nbconvert_exporter": "python",
   "pygments_lexer": "ipython3",
   "version": "3.9.7"
  }
 },
 "nbformat": 4,
 "nbformat_minor": 5
}
